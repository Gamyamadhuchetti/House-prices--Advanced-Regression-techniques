{
  "nbformat": 4,
  "nbformat_minor": 0,
  "metadata": {
    "kernelspec": {
      "display_name": "Python 3",
      "language": "python",
      "name": "python3"
    },
    "language_info": {
      "codemirror_mode": {
        "name": "ipython",
        "version": 3
      },
      "file_extension": ".py",
      "mimetype": "text/x-python",
      "name": "python",
      "nbconvert_exporter": "python",
      "pygments_lexer": "ipython3",
      "version": "3.6.7"
    },
    "colab": {
      "name": "Model Building with Evaluation Metrics",
      "provenance": [],
      "collapsed_sections": []
    }
  },
  "cells": [
    {
      "cell_type": "markdown",
      "metadata": {
        "id": "5QChUBKGRWHc"
      },
      "source": [
        "## Building Machine Learning Pipelines: Data Analysis Phase\n",
        "\n"
      ]
    },
    {
      "cell_type": "code",
      "metadata": {
        "id": "dS2HfdcN-dlz"
      },
      "source": [
        "# Lasso Regression\n",
        "from sklearn.linear_model import Ridge\n",
        "ridge = Ridge(alpha=.3)\n"
      ],
      "execution_count": null,
      "outputs": []
    },
    {
      "cell_type": "code",
      "metadata": {
        "colab": {
          "base_uri": "https://localhost:8080/"
        },
        "id": "OU6dp8AQ-tSa",
        "outputId": "134adf05-8f25-47b6-e6ec-af05fb9d18d6"
      },
      "source": [
        "ridge.fit(x_train,y_train)"
      ],
      "execution_count": null,
      "outputs": [
        {
          "output_type": "execute_result",
          "data": {
            "text/plain": [
              "Ridge(alpha=0.3, copy_X=True, fit_intercept=True, max_iter=None,\n",
              "      normalize=False, random_state=None, solver='auto', tol=0.001)"
            ]
          },
          "metadata": {},
          "execution_count": 61
        }
      ]
    },
    {
      "cell_type": "code",
      "metadata": {
        "colab": {
          "base_uri": "https://localhost:8080/"
        },
        "id": "DAsuoLde-vqw",
        "outputId": "ce92c67b-a855-4866-ddac-31af8b90b772"
      },
      "source": [
        "print (\"Ridge model:\", (ridge.coef_))"
      ],
      "execution_count": null,
      "outputs": [
        {
          "output_type": "stream",
          "name": "stdout",
          "text": [
            "Ridge model: [[-5.79623972e-06 -1.04398931e-02  3.08764853e-02 -3.72012688e-03\n",
            "   6.26806503e-02  5.52288877e-02  4.58329460e-03 -6.59001764e-03\n",
            "   2.94990976e-02  0.00000000e+00  1.41728228e-02 -5.86330337e-03\n",
            "   6.98084988e-02  1.48249994e-02  4.31122286e-02 -8.41694405e-03\n",
            "  -1.11553785e-02  1.45979501e-01  9.92139775e-02 -1.02772870e-02\n",
            "  -1.08533501e-02  5.99706908e-03 -2.35960144e-02  4.10382494e-02\n",
            "  -2.29963866e-02 -1.55695956e-03  1.62567843e-02  1.86789919e-02\n",
            "   1.25015832e-02  6.48348295e-03  2.37704990e-02  2.64646730e-02\n",
            "   1.57596475e-02 -3.19918443e-03 -6.01387993e-03  1.40891994e-02\n",
            "   9.06710035e-03 -2.35804117e-02 -1.23831873e-02  2.34845515e-03\n",
            "   1.59221006e-02  1.76984943e-02  3.56974266e-03  1.40372324e-01\n",
            "   2.69309504e-02 -4.08360261e-03  2.24461581e-01  5.00387536e-02\n",
            "   1.39776080e-02  2.64723021e-02  5.74738926e-03  5.36948593e-03\n",
            "  -3.14159226e-02  3.14036059e-02  3.98768248e-02  3.63638501e-02\n",
            "   1.03945131e-02  9.88417908e-03 -7.25996716e-03  1.52005021e-02\n",
            "   1.15746356e-02  6.01911633e-02  2.32657308e-03  6.53475603e-02\n",
            "  -3.64130249e-03  1.39443292e-02  2.45486911e-02  1.27820397e-02\n",
            "   1.08750382e-02  2.32940941e-02  5.19685961e-02  8.15155971e-02\n",
            "  -1.67355108e-01  1.18543144e-02  9.26843450e-03  3.21571236e-02\n",
            "  -6.07451840e-03 -4.71893831e-03  6.94103796e-03  2.61012819e-02\n",
            "   1.98964804e-03  1.08838785e-02  4.01903881e-02]]\n"
          ]
        }
      ]
    },
    {
      "cell_type": "code",
      "metadata": {
        "colab": {
          "base_uri": "https://localhost:8080/"
        },
        "id": "1syU76CK-zEE",
        "outputId": "4ddef9de-5317-41f9-c87f-e70745f61308"
      },
      "source": [
        "print(\"Ridge Regression Model Training Score: \",ridge.score(x_train, y_train))"
      ],
      "execution_count": null,
      "outputs": [
        {
          "output_type": "stream",
          "name": "stdout",
          "text": [
            "Ridge Regression Model Training Score:  0.9132955029490835\n"
          ]
        }
      ]
    },
    {
      "cell_type": "code",
      "metadata": {
        "id": "7vYx6SZTwsin"
      },
      "source": [
        "y_pred = ridge.predict(x_test)"
      ],
      "execution_count": null,
      "outputs": []
    },
    {
      "cell_type": "code",
      "metadata": {
        "colab": {
          "base_uri": "https://localhost:8080/"
        },
        "id": "HxnMoLHqwc8Y",
        "outputId": "a7595fb6-9858-4e0c-f016-4946a2e8a5c9"
      },
      "source": [
        "# Evaluation Metrics for Ridge Regression\n",
        "from sklearn.metrics import mean_absolute_error\n",
        "print(\"MAE\",mean_absolute_error(y_test,y_pred))\n",
        "print(\"MSE\",mean_squared_error(y_test,y_pred))\n",
        "print(\"RMSE\",np.sqrt(mean_squared_error(y_test,y_pred)))\n",
        "print(\"RMSE Logarithmic\",np.log(np.sqrt(mean_squared_error(y_test,y_pred))))"
      ],
      "execution_count": null,
      "outputs": [
        {
          "output_type": "stream",
          "name": "stdout",
          "text": [
            "MAE 0.030377143567083837\n",
            "MSE 0.0018679774547265045\n",
            "RMSE 0.04322010475145224\n",
            "RMSE Logarithmic -3.141449504226273\n"
          ]
        }
      ]
    },
    {
      "cell_type": "code",
      "metadata": {
        "colab": {
          "base_uri": "https://localhost:8080/"
        },
        "id": "YZEMA0NlwdHd",
        "outputId": "76a85933-4a1c-436e-964b-08f5c4cb9365"
      },
      "source": [
        "r2 = r2_score(y_test,y_pred)\n",
        "print(r2)"
      ],
      "execution_count": null,
      "outputs": [
        {
          "output_type": "stream",
          "name": "stdout",
          "text": [
            "0.8928869817884563\n"
          ]
        }
      ]
    }
  ]
}